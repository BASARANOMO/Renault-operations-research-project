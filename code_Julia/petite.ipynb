{
 "cells": [
  {
   "cell_type": "markdown",
   "metadata": {},
   "source": [
    "# petite.csv"
   ]
  },
  {
   "cell_type": "markdown",
   "metadata": {},
   "source": [
    "# Data parsing"
   ]
  },
  {
   "cell_type": "code",
   "execution_count": 1,
   "metadata": {},
   "outputs": [
    {
     "data": {
      "text/plain": [
       "Plots.PyPlotBackend()"
      ]
     },
     "execution_count": 1,
     "metadata": {},
     "output_type": "execute_result"
    }
   ],
   "source": [
    "using PyPlot: pygui\n",
    "pygui(true)\n",
    "using Plots\n",
    "pyplot()"
   ]
  },
  {
   "cell_type": "code",
   "execution_count": 2,
   "metadata": {},
   "outputs": [
    {
     "data": {
      "text/plain": [
       "write_solution_to_file (generic function with 1 method)"
      ]
     },
     "execution_count": 2,
     "metadata": {},
     "output_type": "execute_result"
    }
   ],
   "source": [
    "include(\"import_all.jl\")"
   ]
  },
  {
   "cell_type": "markdown",
   "metadata": {},
   "source": [
    "## Reading the instance"
   ]
  },
  {
   "cell_type": "code",
   "execution_count": 3,
   "metadata": {},
   "outputs": [
    {
     "data": {
      "text/plain": [
       "33-element Array{String,1}:\n",
       " \"J 3 U 2 F 3 E 2 L 13000 Gamma 1 CCam 100 CStop 10\"\n",
       " \"e 0 l 300\"\n",
       " \"e 1 l 200\"\n",
       " \"u 0 v 0 coor 48.8666672 2.3514623 ce e 0 cr 2 b 4 e 1 cr 4 b 5 lib j 0 e 0 b 5 r 5 e 1 b 0 r 5 j 1 e 0 b 10 r 5 e 1 b 5 r 5 j 2 e 0 b 0 r 5 e 1 b 5 r 5\"\n",
       " \"u 1 v 1 coor 43.6044622 1.4442469 ce e 0 cr 2 b 3 e 1 cr 4 b 6 lib j 0 e 0 b 2 r 5 e 1 b 3 r 5 j 1 e 0 b 2 r 5 e 1 b 3 r 5 j 2 e 0 b 2 r 5 e 1 b 3 r 5\"\n",
       " \"f 0 v 2 coor 48.8666672 2.3514623 ce e 0 cr 2 cexc 55 b 2 e 1 cr 4 cexc 30 b 6 dem j 0 e 0 b 2 r 5 e 1 b 1 r 5 j 1 e 0 b 2 r 5 e 1 b 1 r 5 j 2 e 0 b 2 r 5 e 1 b 1 r 5\"\n",
       " \"f 1 v 3 coor 45.7578137 4.8320114 ce e 0 cr 2 cexc 45 b 4 e 1 cr 4 cexc 40 b 5 dem j 0 e 0 b 0 r 5 e 1 b 2 r 4 j 1 e 0 b 0 r 6 e 1 b 2 r 4 j 2 e 0 b 0 r 3 e 1 b 2 r 4\"\n",
       " \"f 2 v 4 coor 45.7578137 4.8320114 ce e 0 cr 2 cexc 35 b 7 e 1 cr 4 cexc 50 b 4 dem j 0 e 0 b 3 r 5 e 1 b 0 r 5 j 1 e 0 b 3 r 5 e 1 b 0 r 5 j 2 e 0 b 3 r 5 e 1 b 0 r 5\"\n",
       " \"a 0 0 d 0\"\n",
       " \"a 0 1 d 10\"\n",
       " \"a 0 2 d 0\"\n",
       " \"a 0 3 d 8\"\n",
       " \"a 0 4 d 8\"\n",
       " ⋮\n",
       " \"a 2 3 d 8\"\n",
       " \"a 2 4 d 8\"\n",
       " \"a 3 0 d 8\"\n",
       " \"a 3 1 d 5\"\n",
       " \"a 3 2 d 8\"\n",
       " \"a 3 3 d 0\"\n",
       " \"a 3 4 d 0\"\n",
       " \"a 4 0 d 8\"\n",
       " \"a 4 1 d 5\"\n",
       " \"a 4 2 d 8\"\n",
       " \"a 4 3 d 0\"\n",
       " \"a 4 4 d 0\""
      ]
     },
     "execution_count": 3,
     "metadata": {},
     "output_type": "execute_result"
    }
   ],
   "source": [
    "data_petite = open(joinpath(\"..\", \"sujet\", \"petite.csv\")) do file\n",
    "    readlines(file)\n",
    "end"
   ]
  },
  {
   "cell_type": "code",
   "execution_count": 4,
   "metadata": {},
   "outputs": [
    {
     "data": {
      "text/plain": [
       "(J = 3, U = 2, F = 3, E = 2, L = 13000, γ = 1, ccam = 100, cstop = 10)"
      ]
     },
     "execution_count": 4,
     "metadata": {},
     "output_type": "execute_result"
    }
   ],
   "source": [
    "dims_petite = lire_dimensions(data_petite[1])"
   ]
  },
  {
   "cell_type": "code",
   "execution_count": 5,
   "metadata": {
    "scrolled": true
   },
   "outputs": [
    {
     "data": {
      "text/plain": [
       "2-element Array{Emballage,1}:\n",
       " \n",
       "Emballage 1\n",
       "   Longueur 300\n",
       " \n",
       "Emballage 2\n",
       "   Longueur 200"
      ]
     },
     "execution_count": 5,
     "metadata": {},
     "output_type": "execute_result"
    }
   ],
   "source": [
    "emballages_petite = [lire_emballage(data_petite[1+e], dims_petite) for e = 1:dims_petite.E]"
   ]
  },
  {
   "cell_type": "code",
   "execution_count": 6,
   "metadata": {
    "scrolled": true
   },
   "outputs": [
    {
     "data": {
      "text/plain": [
       "2-element Array{Usine,1}:\n",
       " \n",
       "Usine 1\n",
       "   Sommet 1\n",
       "   Coordonnées (48.8666672, 2.3514623)\n",
       "   Coûts stock [2, 4]\n",
       "   Stock initial [4, 5]\n",
       "   Libération journalière [5 10 0; 0 5 5]\n",
       "   Stock maximal journalier [5 5 5; 5 5 5]\n",
       "   Stock journalier [9 19 19; 5 10 15]\n",
       " \n",
       "Usine 2\n",
       "   Sommet 2\n",
       "   Coordonnées (43.6044622, 1.4442469)\n",
       "   Coûts stock [2, 4]\n",
       "   Stock initial [3, 6]\n",
       "   Libération journalière [2 2 2; 3 3 3]\n",
       "   Stock maximal journalier [5 5 5; 5 5 5]\n",
       "   Stock journalier [5 7 9; 9 12 15]"
      ]
     },
     "execution_count": 6,
     "metadata": {},
     "output_type": "execute_result"
    }
   ],
   "source": [
    "usines_petite = [lire_usine(data_petite[1+dims_petite.E+u], dims_petite) for u = 1:dims_petite.U]"
   ]
  },
  {
   "cell_type": "code",
   "execution_count": 7,
   "metadata": {},
   "outputs": [
    {
     "data": {
      "text/plain": [
       "3-element Array{Fournisseur,1}:\n",
       " \n",
       "Fournisseur 1\n",
       "   Sommet 3\n",
       "   Coordonnées (48.8666672, 2.3514623)\n",
       "   Coûts stock [2, 4]\n",
       "   Coûts expédition carton [55, 30]\n",
       "   Stock initial [2, 6]\n",
       "   Consommation journalière [2 2 2; 1 1 1]\n",
       "   Stock maximal journalier [5 5 5; 5 5 5]\n",
       "   Stock journalier [0 0 0; 5 4 3]\n",
       " \n",
       "Fournisseur 2\n",
       "   Sommet 4\n",
       "   Coordonnées (45.7578137, 4.8320114)\n",
       "   Coûts stock [2, 4]\n",
       "   Coûts expédition carton [45, 40]\n",
       "   Stock initial [4, 5]\n",
       "   Consommation journalière [0 0 0; 2 2 2]\n",
       "   Stock maximal journalier [5 6 3; 4 4 4]\n",
       "   Stock journalier [4 4 4; 3 1 0]\n",
       " \n",
       "Fournisseur 3\n",
       "   Sommet 5\n",
       "   Coordonnées (45.7578137, 4.8320114)\n",
       "   Coûts stock [2, 4]\n",
       "   Coûts expédition carton [35, 50]\n",
       "   Stock initial [7, 4]\n",
       "   Consommation journalière [3 3 3; 0 0 0]\n",
       "   Stock maximal journalier [5 5 5; 5 5 5]\n",
       "   Stock journalier [4 1 0; 4 4 4]"
      ]
     },
     "execution_count": 7,
     "metadata": {},
     "output_type": "execute_result"
    }
   ],
   "source": [
    "fournisseurs_petite = [\n",
    "    lire_fournisseur(data_petite[1+dims_petite.E+dims_petite.U+f], dims_petite) for f = 1:dims_petite.F\n",
    "]"
   ]
  },
  {
   "cell_type": "code",
   "execution_count": 8,
   "metadata": {},
   "outputs": [
    {
     "data": {
      "text/plain": [
       "\n",
       "Graphe pondéré avec 5 sommets et 25 arcs\n",
       "   Distances (5 x 5): [0 10 0 8 8; 10 0 8 5 5; 0 8 0 8 8; 8 5 8 0 0; 8 5 8 0 0]"
      ]
     },
     "execution_count": 8,
     "metadata": {},
     "output_type": "execute_result"
    }
   ],
   "source": [
    "graphe_petite = lire_graphe(data_petite[1+dims_petite.E+dims_petite.U+dims_petite.F+1:end], dims_petite)"
   ]
  },
  {
   "cell_type": "code",
   "execution_count": 9,
   "metadata": {},
   "outputs": [
    {
     "data": {
      "text/plain": [
       "\n",
       "Instance\n",
       "   Nombre de jours: 3\n",
       "   Nombre d'usines: 2\n",
       "   Nombre de fournisseurs: 3\n",
       "   Nombre de types d'emballages: 2\n",
       "   Nombre de routes: 0"
      ]
     },
     "execution_count": 9,
     "metadata": {},
     "output_type": "execute_result"
    }
   ],
   "source": [
    "instance_petite = lire_instance(joinpath(\"..\", \"sujet\", \"petite.csv\"))"
   ]
  },
  {
   "cell_type": "code",
   "execution_count": 10,
   "metadata": {},
   "outputs": [
    {
     "data": {
      "image/png": "[encoded data removed]"
     },
     "execution_count": 10,
     "metadata": {},
     "output_type": "execute_result"
    }
   ],
   "source": [
    "plot_sites(instance_petite)"
   ]
  },
  {
   "cell_type": "markdown",
   "metadata": {},
   "source": [
    "# Solution"
   ]
  },
  {
   "cell_type": "code",
   "execution_count": 11,
   "metadata": {},
   "outputs": [
    {
     "data": {
      "text/plain": [
       "LightGraphs"
      ]
     },
     "execution_count": 11,
     "metadata": {},
     "output_type": "execute_result"
    }
   ],
   "source": [
    "using JuMP\n",
    "using Gurobi\n",
    "import LightGraphs\n",
    "const lg = LightGraphs"
   ]
  },
  {
   "cell_type": "markdown",
   "metadata": {},
   "source": [
    "## Func def"
   ]
  },
  {
   "cell_type": "code",
   "execution_count": 12,
   "metadata": {},
   "outputs": [
    {
     "data": {
      "text/plain": [
       "create_graph (generic function with 1 method)"
      ]
     },
     "execution_count": 12,
     "metadata": {},
     "output_type": "execute_result"
    }
   ],
   "source": [
    "function create_graph(G_original, dims, us, fs, J_init, J_fin, e)\n",
    "    U = dims.U\n",
    "    F = dims.F\n",
    "    J = J_fin - J_init + 1\n",
    "    # J = dims.J\n",
    "    cost_dispatch = dims.γ\n",
    "    \n",
    "    G = SimpleDiGraph((3 * U + 4 * F) * J + U + F + 1)\n",
    "    capacity = zeros((3 * U + 4 * F) * J + U + F + 1, \n",
    "        (3 * U + 4 * F) * J + U + F + 1)\n",
    "    cost_mat = zeros((3 * U + 4 * F) * J + U + F + 1, \n",
    "        (3 * U + 4 * F) * J + U + F + 1)\n",
    "    \n",
    "    for j = 1:J # for each day\n",
    "        for u = 1:U # connect each u to each f stock\n",
    "            for f = 1:F\n",
    "                add_edge!(G, (j - 1) * (3 * U + 4 * F) + 3 * (u - 1) + 1, \n",
    "                    (j - 1) * (3 * U + 4 * F) + 3 * U + 4 * (f - 1) + 1)\n",
    "                capacity[(j - 1) * (3 * U + 4 * F) + 3 * (u - 1) + 1, \n",
    "                    (j - 1) * (3 * U + 4 * F) + 3 * U + 4 * (f - 1) + 1] += Inf\n",
    "                cost_mat[(j - 1) * (3 * U + 4 * F) + 3 * (u - 1) + 1, \n",
    "                    (j - 1) * (3 * U + 4 * F) + 3 * U + 4 * (f - 1) + 1] += G_original.d[u, U + f] * cost_dispatch\n",
    "            end\n",
    "        end\n",
    "        \n",
    "        for f = 1:F\n",
    "            # connect fictive u (carton) to each f consommation\n",
    "            add_edge!(G, nv(G), (j - 1) * (3 * U + 4 * F) + 3 * U + 4 * f)\n",
    "            #add_edge!(G, (j - 1) * (3 * U + 4 * F) + 3 * U + 4 * f, nv(G)) # cycle\n",
    "            capacity[nv(G), (j - 1) * (3 * U + 4 * F) + 3 * U + 4 * f] += Inf\n",
    "            #capacity[(j - 1) * (3 * U + 4 * F) + 3 * U + 4 * f, nv(G)] += Inf\n",
    "            cost_mat[nv(G), (j - 1) * (3 * U + 4 * F) + 3 * U + 4 * f] += fs[f].cexc[e]\n",
    "            # cost_mat[(j - 1) * (3 * U + 4 * F) + 3 * U + 4 * f, nv(G)] += fs[f].cexc[e]\n",
    "        end\n",
    "    end\n",
    "    \n",
    "    for j = 1:J\n",
    "        for u = 1:U\n",
    "            # connect u day j to two additional vertices\n",
    "            add_edge!(G, (j - 1) * (3 * U + 4 * F) + 3 * (u - 1) + 1, \n",
    "                (j - 1) * (3 * U + 4 * F) + 3 * (u - 1) + 2)\n",
    "            add_edge!(G, (j - 1) * (3 * U + 4 * F) + 3 * (u - 1) + 1, \n",
    "                (j - 1) * (3 * U + 4 * F) + 3 * (u - 1) + 3)\n",
    "            \n",
    "            capacity[(j - 1) * (3 * U + 4 * F) + 3 * (u - 1) + 1, \n",
    "                (j - 1) * (3 * U + 4 * F) + 3 * (u - 1) + 2] += us[u].r[e, j + J_init - 1]\n",
    "            capacity[(j - 1) * (3 * U + 4 * F) + 3 * (u - 1) + 1, \n",
    "                (j - 1) * (3 * U + 4 * F) + 3 * (u - 1) + 3] += Inf\n",
    "            \n",
    "            cost_mat[(j - 1) * (3 * U + 4 * F) + 3 * (u - 1) + 1, \n",
    "                (j - 1) * (3 * U + 4 * F) + 3 * (u - 1) + 3] += us[u].cs[e]\n",
    "            \n",
    "            if j < J\n",
    "                # connect two additional vertices to u day j+1\n",
    "                add_edge!(G, (j - 1) * (3 * U + 4 * F) + 3 * (u - 1) + 2, \n",
    "                    j * (3 * U + 4 * F) + 3 * (u - 1) + 1)\n",
    "                add_edge!(G, (j - 1) * (3 * U + 4 * F) + 3 * (u - 1) + 3, \n",
    "                    j * (3 * U + 4 * F) + 3 * (u - 1) + 1)\n",
    "                \n",
    "                capacity[(j - 1) * (3 * U + 4 * F) + 3 * (u - 1) + 2, \n",
    "                    j * (3 * U + 4 * F) + 3 * (u - 1) + 1] += us[u].r[e, j + J_init - 1]\n",
    "                capacity[(j - 1) * (3 * U + 4 * F) + 3 * (u - 1) + 3, \n",
    "                    j * (3 * U + 4 * F) + 3 * (u - 1) + 1] += Inf\n",
    "            end\n",
    "        end\n",
    "        \n",
    "        for f = 1:F\n",
    "            # connect f stock day j to two additional vertices\n",
    "            add_edge!(G, (j - 1) * (3 * U + 4 * F) + 3 * U + 4 * (f - 1) + 1, \n",
    "                (j - 1) * (3 * U + 4 * F) + 3 * U + 4 * (f - 1) + 2)\n",
    "            add_edge!(G, (j - 1) * (3 * U + 4 * F) + 3 * U + 4 * (f - 1) + 1, \n",
    "                (j - 1) * (3 * U + 4 * F) + 3 * U + 4 * (f - 1) + 3)\n",
    "            \n",
    "            capacity[(j - 1) * (3 * U + 4 * F) + 3 * U + 4 * (f - 1) + 1, \n",
    "                (j - 1) * (3 * U + 4 * F) + 3 * U + 4 * (f - 1) + 2] += fs[f].r[e, j + J_init - 1]\n",
    "            capacity[(j - 1) * (3 * U + 4 * F) + 3 * U + 4 * (f - 1) + 1, \n",
    "                (j - 1) * (3 * U + 4 * F) + 3 * U + 4 * (f - 1) + 3] += Inf\n",
    "            \n",
    "            cost_mat[(j - 1) * (3 * U + 4 * F) + 3 * U + 4 * (f - 1) + 1, \n",
    "                (j - 1) * (3 * U + 4 * F) + 3 * U + 4 * (f - 1) + 3] += fs[f].cs[e]\n",
    "            \n",
    "            if j < J\n",
    "                # connect each f stock to f consommation of the next day\n",
    "                add_edge!(G, (j - 1) * (3 * U + 4 * F) + 3 * U + 4 * (f - 1) + 1, j * (3 * U + 4 * F) + 3 * U + 4 * f)\n",
    "                capacity[(j - 1) * (3 * U + 4 * F) + 3 * U + 4 * (f - 1) + 1, j * (3 * U + 4 * F) + 3 * U + 4 * f] += Inf\n",
    "                \n",
    "                # connect two additional vertices to f day j+1\n",
    "                add_edge!(G, (j - 1) * (3 * U + 4 * F) + 3 * U + 4 * (f - 1) + 2, \n",
    "                    j * (3 * U + 4 * F) + 3 * U + 4 * (f - 1) + 1)\n",
    "                add_edge!(G, (j - 1) * (3 * U + 4 * F) + 3 * U + 4 * (f - 1) + 3, \n",
    "                    j * (3 * U + 4 * F) + 3 * U + 4 * (f - 1) + 1)\n",
    "                \n",
    "                capacity[(j - 1) * (3 * U + 4 * F) + 3 * U + 4 * (f - 1) + 2, \n",
    "                    j * (3 * U + 4 * F) + 3 * U + 4 * (f - 1) + 1] += fs[f].r[e, j + J_init - 1]\n",
    "                capacity[(j - 1) * (3 * U + 4 * F) + 3 * U + 4 * (f - 1) + 3, \n",
    "                    j * (3 * U + 4 * F) + 3 * U + 4 * (f - 1) + 1] += Inf\n",
    "            end\n",
    "        end\n",
    "    end\n",
    "    \n",
    "    # connect initial stock to the stock of day 1 (for each u)\n",
    "    for u = 1:U\n",
    "        add_edge!(G, (3 * U + 4 * F) * J + u, 3 * (u - 1) + 1)\n",
    "        \n",
    "        capacity[(3 * U + 4 * F) * J + u, 3 * (u - 1) + 1] += Inf\n",
    "    end\n",
    "    \n",
    "    # connect initial stock to the stock of day 1 (for each f) & to the f consommation of day 1\n",
    "    for f = 1:F\n",
    "        add_edge!(G, (3 * U + 4 * F) * J + U + f, 3 * U + 4 * (f - 1) + 1)  \n",
    "        add_edge!(G, (3 * U + 4 * F) * J + U + f, 3 * U + 4 * f)\n",
    "        \n",
    "        capacity[(3 * U + 4 * F) * J + U + f, 3 * U + 4 * (f - 1) + 1] += Inf\n",
    "        capacity[(3 * U + 4 * F) * J + U + f, 3 * U + 4 * f] += Inf\n",
    "    end\n",
    "    \n",
    "    return G, capacity, cost_mat\n",
    "end"
   ]
  },
  {
   "cell_type": "code",
   "execution_count": 14,
   "metadata": {},
   "outputs": [
    {
     "data": {
      "text/plain": [
       "set_demand (generic function with 1 method)"
      ]
     },
     "execution_count": 14,
     "metadata": {},
     "output_type": "execute_result"
    }
   ],
   "source": [
    "# for a given e\n",
    "function set_demand(dims, us, fs, J_init, J_fin, e) # b parameter\n",
    "    U = dims.U\n",
    "    F = dims.F\n",
    "    J = J_fin - J_init + 1\n",
    "    # J = dims.J\n",
    "    demand = zeros((3 * U + 4 * F) * J + U + F + 1)\n",
    "    \n",
    "    for j = 1:J\n",
    "        # for each u\n",
    "        for u = 1:U\n",
    "            demand[(j - 1) * (3 * U + 4 * F) + 3 * (u - 1) + 1] -= us[u].b⁺[e, j + J_init - 1]\n",
    "        end\n",
    "        \n",
    "        # for each f consommation\n",
    "        for f = 1:F\n",
    "            demand[(j - 1) * (3 * U + 4 * F) + 3 * U + 4 * f] += fs[f].b⁻[e, j + J_init - 1]\n",
    "        end\n",
    "    end\n",
    "    \n",
    "    # for initial stock\n",
    "    for u = 1:U\n",
    "        demand[J * (3 * U + 4 * F) + u] -= us[u].s0[e]\n",
    "    end\n",
    "    \n",
    "    for f = 1:F\n",
    "        demand[J * (3 * U + 4 * F) + U + f] -= fs[f].s0[e]\n",
    "    end\n",
    "    \n",
    "    println(sum(demand))\n",
    "    # additional vertices from day 1 to day J-1: b = 0\n",
    "    # additional vertices of day J: b >= 0\n",
    "    demand[(3 * U + 4 * F) * J + U + F + 1] += Inf # +Inf means that b is not fixed\n",
    "    for u = 1:U\n",
    "        demand[(J - 1) * (3 * U + 4 * F) + 3 * (u - 1) + 2] -= Inf # -Inf means b>=0\n",
    "        demand[(J - 1) * (3 * U + 4 * F) + 3 * (u - 1) + 3] -= Inf\n",
    "    end\n",
    "    for f = 1:F\n",
    "        demand[(J - 1) * (3 * U + 4 * F) + 3 * U + 4 * (f - 1) + 2] -= Inf\n",
    "        demand[(J - 1) * (3 * U + 4 * F) + 3 * U + 4 * (f - 1) + 3] -= Inf\n",
    "    end\n",
    "    \n",
    "    return demand\n",
    "end"
   ]
  },
  {
   "cell_type": "code",
   "execution_count": 15,
   "metadata": {},
   "outputs": [
    {
     "data": {
      "text/plain": [
       "min_cost_flow (generic function with 1 method)"
      ]
     },
     "execution_count": 15,
     "metadata": {},
     "output_type": "execute_result"
    }
   ],
   "source": [
    "function min_cost_flow(g, node_demand, edge_capacity, edge_cost, optimizer)\n",
    "    m = JuMP.Model(optimizer)\n",
    "    vtxs = vertices(g)\n",
    "    \n",
    "    source_nodes = [v for v in vtxs if node_demand[v] < 0 && node_demand[v] != -Inf]\n",
    "    sink_nodes = [v for v in vtxs if node_demand[v] > 0 && node_demand[v] != Inf]\n",
    "    \n",
    "    idx_dict = Dict()\n",
    "    ridx_dict = Dict()\n",
    "    i = 1\n",
    "    for e in lg.edges(g)\n",
    "        idx_dict[i] = [src(e), dst(e)]\n",
    "        ridx_dict[(src(e), dst(e))] = i\n",
    "        i += 1\n",
    "    end\n",
    "    \n",
    "    @variable(m, 0 <= f[i = 1:ne(g)] <= edge_capacity[idx_dict[i][1], idx_dict[i][2]], Int)\n",
    "    @objective(m, Min, sum(f[i] * edge_cost[idx_dict[i][1], idx_dict[i][2]] for i = 1:ne(g)))\n",
    "    # @variable(m, 0 <= f[i=vtxs, j=vtxs; (i,j) in lg.edges(g)] <= edge_capacity[i, j])\n",
    "    # @objective(m, Min, sum(f[src(e),dst(e)] * edge_cost[src(e), dst(e)] for e in lg.edges(g)))\n",
    "\n",
    "    for v in lg.vertices(g)\n",
    "        if v in source_nodes\n",
    "            @constraint(m,\n",
    "                sum(f[ridx_dict[(v, vout)]] for vout in outneighbors(g, v)) - sum(f[ridx_dict[(vin, v)]] for vin in lg.inneighbors(g, v)) == -node_demand[v]\n",
    "            )\n",
    "        elseif v in sink_nodes\n",
    "            @constraint(m,\n",
    "                sum(f[ridx_dict[(vin, v)]] for vin in lg.inneighbors(g, v)) - sum(f[ridx_dict[(v, vout)]] for vout in outneighbors(g, v)) == node_demand[v]\n",
    "            )\n",
    "        else\n",
    "            if node_demand[v] == -Inf\n",
    "                @constraint(m, sum(f[ridx_dict[(vin, v)]] for vin in lg.inneighbors(g, v)) - sum(f[ridx_dict[(v, vout)]] for vout in outneighbors(g, v)) >= 0)\n",
    "            elseif node_demand[v] != Inf\n",
    "                @constraint(m,\n",
    "                    sum(f[ridx_dict[(vin, v)]] for vin in lg.inneighbors(g, v)) == sum(f[ridx_dict[(v, vout)]] for vout in outneighbors(g, v))\n",
    "                )\n",
    "            end\n",
    "        end\n",
    "    end\n",
    "\n",
    "    optimize!(m)\n",
    "    ts = termination_status(m)\n",
    "    result_flow = spzeros(nv(g), nv(g))\n",
    "    if ts != MOI.OPTIMAL\n",
    "        @warn \"Problem does not have an optimal solution, status: $(ts)\"\n",
    "        return result_flow\n",
    "    end\n",
    "    for e in lg.edges(g)\n",
    "        (i,j) = Tuple(e)\n",
    "        result_flow[i,j] = JuMP.value(f[ridx_dict[(i,j)]])\n",
    "    end\n",
    "    ObjVal = MOI.get(m,MOI.ObjectiveValue())\n",
    "    return result_flow, ObjVal\n",
    "    \n",
    "end"
   ]
  },
  {
   "cell_type": "code",
   "execution_count": 16,
   "metadata": {},
   "outputs": [
    {
     "data": {
      "text/plain": [
       "run_opt (generic function with 1 method)"
      ]
     },
     "execution_count": 16,
     "metadata": {},
     "output_type": "execute_result"
    }
   ],
   "source": [
    "function run_opt(g, dims, us, fs, J_init, J_fin, e, optimizer)\n",
    "    g, capacity, cost_mat = create_graph(g, dims, us, fs, J_init, J_fin, e)\n",
    "    demand = set_demand(dims, us, fs, J_init, J_fin, e)\n",
    "    flow, ObjVal = min_cost_flow(g, demand, capacity, cost_mat, optimizer)\n",
    "    return flow, ObjVal\n",
    "end"
   ]
  },
  {
   "cell_type": "code",
   "execution_count": 17,
   "metadata": {
    "scrolled": true
   },
   "outputs": [
    {
     "data": {
      "text/plain": [
       "read_flow (generic function with 1 method)"
      ]
     },
     "execution_count": 17,
     "metadata": {},
     "output_type": "execute_result"
    }
   ],
   "source": [
    "function read_flow(flow, U, F, J_init, J_fin)\n",
    "    # create a U * F * J matrix (for a given e) for dispatching\n",
    "    # create a U * J matrix (for a given e) for stockage\n",
    "    # create a F * J matrix (for a given e) for stockage\n",
    "    # create a F * J matrix (for a given e) for carton consommation\n",
    "    J = J_fin - J_init + 1\n",
    "    dispatch = zeros(U, F, J)\n",
    "    stock_U = zeros(U, J)\n",
    "    stock_F = zeros(F, J)\n",
    "    consom_carton = zeros(F, J)\n",
    "    for j = 1:J\n",
    "        for u = 1:U\n",
    "            for f = 1:F\n",
    "                dispatch[u, f, j] += flow[(j - 1) * (3 * U + 4 * F) + 3 * (u - 1) + 1,\n",
    "                    (j - 1) * (3 * U + 4 * F) + 3 * U + 4 * (f - 1) + 1]\n",
    "            end\n",
    "        end\n",
    "        \n",
    "        for u = 1:U\n",
    "            stock_U[u, j] = flow[(j - 1) * (3 * U + 4 * F) + 3 * (u - 1) + 1, (j - 1) * (3 * U + 4 * F) + 3 * (u - 1) + 2] +\n",
    "            flow[(j - 1) * (3 * U + 4 * F) + 3 * (u - 1) + 1, (j - 1) * (3 * U + 4 * F) + 3 * (u - 1) + 3]\n",
    "        end\n",
    "        \n",
    "        for f = 1:F\n",
    "            stock_F[f, j] = flow[(j - 1) * (3 * U + 4 * F) + 3 * U + 4 * (f - 1) + 1,\n",
    "                (j - 1) * (3 * U + 4 * F) + 3 * U + 4 * (f - 1) + 2] + \n",
    "            flow[(j - 1) * (3 * U + 4 * F) + 3 * U + 4 * (f - 1) + 1,\n",
    "                (j - 1) * (3 * U + 4 * F) + 3 * U + 4 * (f - 1) + 3]\n",
    "            \n",
    "            consom_carton[f, j] = flow[size(flow)[1], (j - 1) * (3 * U + 4 * F) + 3 * U + 4 * f]\n",
    "        end\n",
    "    end\n",
    "    \n",
    "    return dispatch, consom_carton, stock_U, stock_F\n",
    "end"
   ]
  },
  {
   "cell_type": "markdown",
   "metadata": {},
   "source": [
    "## Test"
   ]
  },
  {
   "cell_type": "code",
   "execution_count": 18,
   "metadata": {
    "scrolled": true
   },
   "outputs": [
    {
     "name": "stdout",
     "output_type": "stream",
     "text": [
      "-36.0\n",
      "Academic license - for non-commercial use only - expires 2021-02-15\n",
      "Gurobi Optimizer version 9.1.0 build v9.1.0rc0 (win64)\n",
      "Thread count: 4 physical cores, 8 logical processors, using up to 8 threads\n",
      "Optimize a model with 59 rows, 91 columns and 173 nonzeros\n",
      "Model fingerprint: 0x08a95c17\n",
      "Variable types: 0 continuous, 91 integer (0 binary)\n",
      "Coefficient statistics:\n",
      "  Matrix range     [1e+00, 1e+00]\n",
      "  Objective range  [4e+00, 5e+01]\n",
      "  Bounds range     [4e+00, 5e+00]\n",
      "  RHS range        [1e+00, 6e+00]\n",
      "Found heuristic solution: objective 665.0000000\n",
      "Presolve removed 45 rows and 52 columns\n",
      "Presolve time: 0.02s\n",
      "Presolved: 14 rows, 39 columns, 70 nonzeros\n",
      "Found heuristic solution: objective 570.0000000\n",
      "Variable types: 0 continuous, 39 integer (1 binary)\n",
      "\n",
      "Root relaxation: objective 9.400000e+01, 19 iterations, 0.01 seconds\n",
      "\n",
      "    Nodes    |    Current Node    |     Objective Bounds      |     Work\n",
      " Expl Unexpl |  Obj  Depth IntInf | Incumbent    BestBd   Gap | It/Node Time\n",
      "\n",
      "*    0     0               0      94.0000000   94.00000  0.00%     -    0s\n",
      "\n",
      "Explored 0 nodes (19 simplex iterations) in 0.04 seconds\n",
      "Thread count was 8 (of 8 available processors)\n",
      "\n",
      "Solution count 3: 94 570 665 \n",
      "\n",
      "Optimal solution found (tolerance 1.00e-04)\n",
      "Best objective 9.400000000000e+01, best bound 9.400000000000e+01, gap 0.0000%\n",
      "\n",
      "User-callback calls 61, time in user-callback 0.01 sec\n"
     ]
    },
    {
     "data": {
      "text/plain": [
       "(\n",
       "  [55,  1]  =  5.0\n",
       "  [1 ,  2]  =  5.0\n",
       "  [56,  4]  =  6.0\n",
       "  [4 ,  5]  =  5.0\n",
       "  [57,  7]  =  5.0\n",
       "  [7 ,  8]  =  4.0\n",
       "  [57, 10]  =  1.0\n",
       "  [4 , 11]  =  3.0\n",
       "  [58, 11]  =  3.0\n",
       "  [11, 12]  =  4.0\n",
       "  [58, 14]  =  2.0\n",
       "  [4 , 15]  =  1.0\n",
       "  ⋮\n",
       "  [40, 41]  =  5.0\n",
       "  [40, 42]  =  4.0\n",
       "  [26, 43]  =  5.0\n",
       "  [27, 43]  =  3.0\n",
       "  [37, 43]  =  5.0\n",
       "  [43, 44]  =  5.0\n",
       "  [43, 45]  =  8.0\n",
       "  [25, 46]  =  1.0\n",
       "  [30, 47]  =  4.0\n",
       "  [47, 48]  =  4.0\n",
       "  [29, 50]  =  2.0\n",
       "  [34, 51]  =  5.0\n",
       "  [51, 52]  =  5.0, 94.0)"
      ]
     },
     "execution_count": 18,
     "metadata": {},
     "output_type": "execute_result"
    }
   ],
   "source": [
    "flow, ObjVal = run_opt(graphe_petite, dims_petite, usines_petite, fournisseurs_petite, 1, 3, 2, Gurobi.Optimizer)"
   ]
  },
  {
   "cell_type": "code",
   "execution_count": 19,
   "metadata": {
    "scrolled": false
   },
   "outputs": [
    {
     "data": {
      "text/plain": [
       "([0.0 0.0 0.0; 0.0 3.0 1.0]\n",
       "\n",
       "[5.0 0.0 0.0; 0.0 2.0 0.0]\n",
       "\n",
       "[5.0 0.0 0.0; 0.0 0.0 0.0], [0.0 0.0 0.0; 0.0 0.0 0.0; 0.0 0.0 0.0], [5.0 5.0 5.0; 5.0 6.0 9.0], [4.0 8.0 13.0; 4.0 4.0 4.0; 5.0 5.0 5.0])"
      ]
     },
     "execution_count": 19,
     "metadata": {},
     "output_type": "execute_result"
    }
   ],
   "source": [
    "disp, consom_carton, stock_U, stock_F = read_flow(flow, dims_petite.U, dims_petite.F, 1, 3)"
   ]
  },
  {
   "cell_type": "code",
   "execution_count": 20,
   "metadata": {},
   "outputs": [
    {
     "data": {
      "text/plain": [
       "16.0"
      ]
     },
     "execution_count": 20,
     "metadata": {},
     "output_type": "execute_result"
    }
   ],
   "source": [
    "sum(disp)"
   ]
  },
  {
   "cell_type": "code",
   "execution_count": 21,
   "metadata": {},
   "outputs": [
    {
     "data": {
      "text/plain": [
       "2×3 Array{Float64,2}:\n",
       " 5.0  5.0  5.0\n",
       " 5.0  6.0  9.0"
      ]
     },
     "execution_count": 21,
     "metadata": {},
     "output_type": "execute_result"
    }
   ],
   "source": [
    "stock_U"
   ]
  },
  {
   "cell_type": "code",
   "execution_count": 22,
   "metadata": {},
   "outputs": [
    {
     "name": "stdout",
     "output_type": "stream",
     "text": [
      "-26.0\n",
      "Academic license - for non-commercial use only - expires 2021-02-15\n",
      "Gurobi Optimizer version 9.1.0 build v9.1.0rc0 (win64)\n",
      "Thread count: 4 physical cores, 8 logical processors, using up to 8 threads\n",
      "Optimize a model with 59 rows, 91 columns and 173 nonzeros\n",
      "Model fingerprint: 0x9b24fbaf\n",
      "Variable types: 0 continuous, 91 integer (0 binary)\n",
      "Coefficient statistics:\n",
      "  Matrix range     [1e+00, 1e+00]\n",
      "  Objective range  [2e+00, 6e+01]\n",
      "  Bounds range     [3e+00, 6e+00]\n",
      "  RHS range        [2e+00, 1e+01]\n",
      "Found heuristic solution: objective 464.0000000\n",
      "Presolve removed 44 rows and 50 columns\n",
      "Presolve time: 0.01s\n",
      "Presolved: 15 rows, 41 columns, 73 nonzeros\n",
      "Found heuristic solution: objective 449.0000000\n",
      "Variable types: 0 continuous, 41 integer (0 binary)\n",
      "\n",
      "Root relaxation: objective 3.600000e+01, 15 iterations, 0.00 seconds\n",
      "\n",
      "    Nodes    |    Current Node    |     Objective Bounds      |     Work\n",
      " Expl Unexpl |  Obj  Depth IntInf | Incumbent    BestBd   Gap | It/Node Time\n",
      "\n",
      "*    0     0               0      36.0000000   36.00000  0.00%     -    0s\n",
      "\n",
      "Explored 0 nodes (15 simplex iterations) in 0.03 seconds\n",
      "Thread count was 8 (of 8 available processors)\n",
      "\n",
      "Solution count 3: 36 449 464 \n",
      "\n",
      "Optimal solution found (tolerance 1.00e-04)\n",
      "Best objective 3.600000000000e+01, best bound 3.600000000000e+01, gap 0.0000%\n",
      "\n",
      "User-callback calls 55, time in user-callback 0.00 sec\n",
      "36.0-36.0\n",
      "Academic license - for non-commercial use only - expires 2021-02-15\n",
      "Gurobi Optimizer version 9.1.0 build v9.1.0rc0 (win64)\n",
      "Thread count: 4 physical cores, 8 logical processors, using up to 8 threads\n",
      "Optimize a model with 59 rows, 91 columns and 173 nonzeros\n",
      "Model fingerprint: 0x08a95c17\n",
      "Variable types: 0 continuous, 91 integer (0 binary)\n",
      "Coefficient statistics:\n",
      "  Matrix range     [1e+00, 1e+00]\n",
      "  Objective range  [4e+00, 5e+01]\n",
      "  Bounds range     [4e+00, 5e+00]\n",
      "  RHS range        [1e+00, 6e+00]\n",
      "Found heuristic solution: objective 665.0000000\n",
      "Presolve removed 45 rows and 52 columns\n",
      "Presolve time: 0.00s\n",
      "Presolved: 14 rows, 39 columns, 70 nonzeros\n",
      "Found heuristic solution: objective 570.0000000\n",
      "Variable types: 0 continuous, 39 integer (1 binary)\n",
      "\n",
      "Root relaxation: objective 9.400000e+01, 19 iterations, 0.00 seconds\n",
      "\n",
      "    Nodes    |    Current Node    |     Objective Bounds      |     Work\n",
      " Expl Unexpl |  Obj  Depth IntInf | Incumbent    BestBd   Gap | It/Node Time\n",
      "\n",
      "*    0     0               0      94.0000000   94.00000  0.00%     -    0s\n",
      "\n",
      "Explored 0 nodes (19 simplex iterations) in 0.01 seconds\n",
      "Thread count was 8 (of 8 available processors)\n",
      "\n",
      "Solution count 3: 94 570 665 \n",
      "\n",
      "Optimal solution found (tolerance 1.00e-04)\n",
      "Best objective 9.400000000000e+01, best bound 9.400000000000e+01, gap 0.0000%\n",
      "\n",
      "User-callback calls 53, time in user-callback 0.00 sec\n",
      "94.0"
     ]
    },
    {
     "data": {
      "text/plain": [
       "130.0"
      ]
     },
     "execution_count": 22,
     "metadata": {},
     "output_type": "execute_result"
    }
   ],
   "source": [
    "disp_all_E = zeros(dims_petite.U,dims_petite.F,dims_petite.J,dims_petite.E)\n",
    "cost_flow = 0.0\n",
    "for e in 1:dims_petite.E\n",
    "    flow, ObjVal = run_opt(graphe_petite, dims_petite, usines_petite, fournisseurs_petite, 1, dims_petite.J, e, Gurobi.Optimizer)\n",
    "    disp, consom_carton, stock_U, stock_F = read_flow(flow, dims_petite.U, dims_petite.F, 1, dims_petite.J)\n",
    "    disp_all_E[:,:,:,e] = disp[:,:,:]\n",
    "    cost_flow += ObjVal\n",
    "    print(ObjVal)\n",
    "end\n",
    "cost_flow"
   ]
  },
  {
   "cell_type": "code",
   "execution_count": 23,
   "metadata": {},
   "outputs": [
    {
     "data": {
      "text/plain": [
       "2×3×3×2 Array{Float64,4}:\n",
       "[:, :, 1, 1] =\n",
       " 4.0  0.0  0.0\n",
       " 0.0  0.0  2.0\n",
       "\n",
       "[:, :, 2, 1] =\n",
       " 5.0  0.0  0.0\n",
       " 0.0  0.0  0.0\n",
       "\n",
       "[:, :, 3, 1] =\n",
       " 5.0  0.0  0.0\n",
       " 0.0  0.0  0.0\n",
       "\n",
       "[:, :, 1, 2] =\n",
       " 0.0  0.0  0.0\n",
       " 0.0  3.0  1.0\n",
       "\n",
       "[:, :, 2, 2] =\n",
       " 5.0  0.0  0.0\n",
       " 0.0  2.0  0.0\n",
       "\n",
       "[:, :, 3, 2] =\n",
       " 5.0  0.0  0.0\n",
       " 0.0  0.0  0.0"
      ]
     },
     "execution_count": 23,
     "metadata": {},
     "output_type": "execute_result"
    }
   ],
   "source": [
    "disp_all_E\n",
    "# (u, f, j, e)"
   ]
  },
  {
   "cell_type": "code",
   "execution_count": 24,
   "metadata": {},
   "outputs": [
    {
     "data": {
      "text/plain": [
       "2-element Array{Any,1}:\n",
       " 300\n",
       " 200"
      ]
     },
     "execution_count": 24,
     "metadata": {},
     "output_type": "execute_result"
    }
   ],
   "source": [
    "le = []\n",
    "for e in 1: dims_petite.E\n",
    "    append!(le,emballages_petite[e].l)\n",
    "end\n",
    "le"
   ]
  },
  {
   "cell_type": "code",
   "execution_count": 25,
   "metadata": {},
   "outputs": [
    {
     "data": {
      "text/plain": [
       "3×3 Array{Float64,2}:\n",
       " 4.0  8.0  13.0\n",
       " 4.0  4.0   4.0\n",
       " 5.0  5.0   5.0"
      ]
     },
     "execution_count": 25,
     "metadata": {},
     "output_type": "execute_result"
    }
   ],
   "source": [
    "stock_F"
   ]
  },
  {
   "cell_type": "code",
   "execution_count": 134,
   "metadata": {},
   "outputs": [
    {
     "data": {
      "text/plain": [
       "255"
      ]
     },
     "execution_count": 134,
     "metadata": {},
     "output_type": "execute_result"
    }
   ],
   "source": [
    "sum(usines_espagne[2].b⁺[7,:])"
   ]
  },
  {
   "cell_type": "code",
   "execution_count": 141,
   "metadata": {},
   "outputs": [
    {
     "data": {
      "text/plain": [
       "47"
      ]
     },
     "execution_count": 141,
     "metadata": {},
     "output_type": "execute_result"
    }
   ],
   "source": [
    "s = 0\n",
    "for f = 1:dims_espagne.F\n",
    "    s += fournisseurs_espagne[f].s0[7]\n",
    "end\n",
    "s"
   ]
  },
  {
   "cell_type": "code",
   "execution_count": 28,
   "metadata": {},
   "outputs": [
    {
     "data": {
      "text/plain": [
       "({60, 91} directed simple Int64 graph, [0.0 5.0 … 0.0 0.0; 0.0 0.0 … 0.0 0.0; … ; 0.0 0.0 … 0.0 0.0; 0.0 0.0 … 0.0 0.0], [0.0 0.0 … 0.0 0.0; 0.0 0.0 … 0.0 0.0; … ; 0.0 0.0 … 0.0 0.0; 0.0 0.0 … 0.0 0.0])"
      ]
     },
     "execution_count": 28,
     "metadata": {},
     "output_type": "execute_result"
    }
   ],
   "source": [
    "g, capacity, cost_mat = create_graph(graphe_petite, dims_petite, usines_petite, fournisseurs_petite, 1, 3, 1)"
   ]
  },
  {
   "cell_type": "markdown",
   "metadata": {},
   "source": [
    "# First fit descreasing"
   ]
  },
  {
   "cell_type": "code",
   "execution_count": 26,
   "metadata": {},
   "outputs": [
    {
     "data": {
      "text/plain": [
       "heur_FFD (generic function with 1 method)"
      ]
     },
     "execution_count": 26,
     "metadata": {},
     "output_type": "execute_result"
    }
   ],
   "source": [
    "function heur_FFD(L, items)\n",
    "    n = size(items)\n",
    "    order = sortperm(items, rev=true)\n",
    "    bin_for_items = fill(-1,n)\n",
    "    bin_space = []\n",
    "    for i in order\n",
    "        if length(bin_space) > 0\n",
    "            for j in 1:length(bin_space)\n",
    "                if items[i] <= bin_space[j]\n",
    "                    bin_for_items[i] = j\n",
    "                    bin_space[j] -= items[i]\n",
    "                    break\n",
    "                end\n",
    "            end\n",
    "        end\n",
    "\n",
    "        if bin_for_items[i] < 0\n",
    "            j = length(bin_space)\n",
    "            bin_for_items[i] = j+1\n",
    "            append!(bin_space, L-items[i])\n",
    "        end\n",
    "    end\n",
    "    n_bins = length(bin_space)\n",
    "    return n_bins, bin_for_items\n",
    "end"
   ]
  },
  {
   "cell_type": "code",
   "execution_count": 27,
   "metadata": {},
   "outputs": [
    {
     "data": {
      "text/plain": [
       "get_items (generic function with 1 method)"
      ]
     },
     "execution_count": 27,
     "metadata": {},
     "output_type": "execute_result"
    }
   ],
   "source": [
    "function get_items(u,f,j,disp_all_E,le,E)\n",
    "    qe = disp_all_E[u,f,j,:]\n",
    "    items = Int[]\n",
    "    for i in 1:E\n",
    "        if qe[i] != 0\n",
    "            for j in 1:qe[i]\n",
    "                append!(items,le[i])\n",
    "            end\n",
    "        end\n",
    "    end\n",
    "    return items\n",
    "end\n"
   ]
  },
  {
   "cell_type": "code",
   "execution_count": 29,
   "metadata": {},
   "outputs": [],
   "source": [
    "E = dims_petite.E\n",
    "cost_camion = 0.0\n",
    "for u in 1:dims_petite.U\n",
    "    for f in 1:dims_petite.F\n",
    "        for j in 1:dims_petite.J\n",
    "            items = get_items(u,f,j,disp_all_E,le,E)\n",
    "            n_bins, bin_for_items = heur_FFD(dims_petite.L, items)\n",
    "            cost_camion += dims_petite.ccam * n_bins\n",
    "        end\n",
    "    end\n",
    "end"
   ]
  },
  {
   "cell_type": "code",
   "execution_count": 30,
   "metadata": {},
   "outputs": [
    {
     "data": {
      "text/plain": [
       "600.0"
      ]
     },
     "execution_count": 30,
     "metadata": {},
     "output_type": "execute_result"
    }
   ],
   "source": [
    "cost_camion"
   ]
  },
  {
   "cell_type": "code",
   "execution_count": null,
   "metadata": {},
   "outputs": [],
   "source": []
  }
 ],
 "metadata": {
  "kernelspec": {
   "display_name": "Julia 1.5.3",
   "language": "julia",
   "name": "julia-1.5"
  },
  "language_info": {
   "file_extension": ".jl",
   "mimetype": "application/julia",
   "name": "julia",
   "version": "1.5.3"
  }
 },
 "nbformat": 4,
 "nbformat_minor": 4
}
